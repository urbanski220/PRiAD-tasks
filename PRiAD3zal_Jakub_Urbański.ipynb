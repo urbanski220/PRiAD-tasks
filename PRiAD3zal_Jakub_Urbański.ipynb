{
 "cells": [
  {
   "cell_type": "markdown",
   "metadata": {},
   "source": [
    "# PRiAD 3 - test zaliczający"
   ]
  },
  {
   "cell_type": "markdown",
   "metadata": {},
   "source": [
    "> **Zadanie 1** Wczytaj dane dowolnego z dwóch plików zawierających kursy walut. Wykorzystujac miary tendencji centralnej oraz miary rozrzutu określ dla każdej waluty w którym półroczu którego roku (rozważ jedynie półrocza, dla których znane są wszystkie kursy) kurs był najwyższy, najniższy (biorąc pod uwagę jego wartość średnią w danym okresie) oraz wykazywał największą zmienność."
   ]
  },
  {
   "cell_type": "code",
   "execution_count": 2,
   "metadata": {},
   "outputs": [],
   "source": [
    "import numpy as np\n",
    "import pandas as pd\n",
    "import seaborn as sns\n",
    "import matplotlib.pyplot as plt"
   ]
  },
  {
   "cell_type": "markdown",
   "metadata": {},
   "source": [
    "Test obejmuje materiał z ćwiczenia PRiAD3, wymaga także znajmości zagadnień z wcześniejszych ćwiczeń."
   ]
  },
  {
   "cell_type": "code",
   "execution_count": 4,
   "metadata": {},
   "outputs": [
    {
     "name": "stdout",
     "output_type": "stream",
     "text": [
      "                    CHF       USD       EUR       JPY\n",
      "rok  polrocze                                        \n",
      "2006 1         2.492556  3.162831  3.893071  2.735987\n",
      "     2         2.463437  3.045762  3.903084  2.605120\n",
      "2007 1         2.357145  2.895351  3.845133  2.411950\n",
      "     2         2.253053  2.643838  3.724451  2.288862\n",
      "2008 1         2.175156  2.285444  3.492445  2.178006\n",
      "     2         2.258416  2.524870  3.532994  2.511239\n",
      "2009 1         2.972225  3.362866  4.474228  3.527870\n",
      "     2         2.765322  2.882845  4.187708  3.145592\n",
      "2010 1         2.786023  3.019919  3.999321  3.306145\n",
      "     2         3.005494  3.095204  4.005971  3.612191\n",
      "Najwyzsze kursy walut: \n",
      "    Rok, Polrocze      kurs\n",
      "CHF     (2010, 2)  3.005494\n",
      "USD     (2009, 1)  3.362866\n",
      "EUR     (2009, 1)  4.474228\n",
      "JPY     (2010, 2)  3.612191 \n",
      "\n",
      "Najnizsze kursy walut: \n",
      "    Rok, Polrocze      kurs\n",
      "CHF     (2008, 1)  2.175156\n",
      "USD     (2008, 1)  2.285444\n",
      "EUR     (2008, 1)  3.492445\n",
      "JPY     (2008, 1)  2.178006 \n",
      "\n",
      "Zmiany kursow walut: \n",
      "     Odchylenie standardowe\n",
      "CHF                0.307215\n",
      "USD                0.323305\n",
      "EUR                0.292109\n",
      "JPY                0.524808\n"
     ]
    }
   ],
   "source": [
    "# Miejsce na kod\n",
    "w = pd.read_excel('waluty1.xls')\n",
    "w = w.dropna()\n",
    "w['polrocze'] = 0\n",
    "#print(w.head())\n",
    "for i in w.index:\n",
    "    if w.loc[i]['mies']<=6:\n",
    "        w.at[i,'polrocze'] = 1\n",
    "    else:\n",
    "        w.at[i,'polrocze'] = 2\n",
    "        \n",
    "        \n",
    "w = w.drop(columns=['dzien','mies'])\n",
    "w = w.groupby(['rok','polrocze']).mean()\n",
    "print(w)\n",
    "\n",
    "print(\"Najwyzsze kursy walut: \")\n",
    "dfmax = pd.concat([w.idxmax(), w.max()], axis = 1)\n",
    "dfmax.columns =  ['Rok, Polrocze','kurs']\n",
    "print(dfmax , \"\\n\")\n",
    "\n",
    "print(\"Najnizsze kursy walut: \")\n",
    "dfmin = pd.concat([w.idxmin(), w.min()], axis = 1)\n",
    "dfmin.columns =  ['Rok, Polrocze','kurs']\n",
    "print(dfmin , \"\\n\")\n",
    "\n",
    "#Aby określić zmienność poszczególnych walut użyję zmiennej standardowej\n",
    "print(\"Zmiany kursow walut: \")\n",
    "dfch = pd.concat([w.std()], axis=1)\n",
    "dfch.columns =  ['Odchylenie standardowe']\n",
    "print(dfch)\n",
    "\n",
    "        \n",
    "\n"
   ]
  },
  {
   "cell_type": "markdown",
   "metadata": {},
   "source": [
    "> **Zadanie 2** Wczytaj dane z drugiego pliku zawierającego kursy walut, z którego NIE skorzystałeś w zadaniu 1. Zbadaj korelacje kursów walut w załum obserwowanym okresie. Które waluty są ze sobą najbardziej, a które najmniej skorelowane?"
   ]
  },
  {
   "cell_type": "code",
   "execution_count": 37,
   "metadata": {},
   "outputs": [
    {
     "name": "stdout",
     "output_type": "stream",
     "text": [
      "          EUR      USD      CHF\n",
      "0     1.16970  0.95000  0.67010\n",
      "1     1.16560  0.95000  0.66880\n",
      "2     1.17440  0.95000  0.67660\n",
      "3     1.15740  0.95000  0.66330\n",
      "4     1.16720  0.95000  0.66500\n",
      "...       ...      ...      ...\n",
      "7405  4.32913  3.95572  4.05341\n",
      "7406  4.31751  3.96599  4.05969\n",
      "7407  4.30592  3.92970  4.05768\n",
      "7408  4.29582  3.92137  4.06419\n",
      "7409  4.30714  3.87587  4.04516\n",
      "\n",
      "[7410 rows x 3 columns]\n",
      "          EUR       USD       CHF\n",
      "EUR  1.000000  0.843085  0.866737\n",
      "USD  0.843085  1.000000  0.728293\n",
      "CHF  0.866737  0.728293  1.000000\n"
     ]
    },
    {
     "data": {
      "text/plain": [
       "<AxesSubplot:>"
      ]
     },
     "execution_count": 37,
     "metadata": {},
     "output_type": "execute_result"
    },
    {
     "data": {
      "image/png": "[encoded data removed]",
      "text/plain": [
       "<Figure size 1000x1000 with 2 Axes>"
      ]
     },
     "metadata": {
      "needs_background": "light"
     },
     "output_type": "display_data"
    }
   ],
   "source": [
    "# Miejsce na kod\n",
    "eur = pd.read_excel('kursy.xlsx', sheet_name='EURPLN', skiprows=2, usecols='A,E')\n",
    "eur.drop(columns='Data', inplace=True)\n",
    "\n",
    "chf = pd.read_excel('kursy.xlsx', sheet_name='CHFPLN', skiprows=2, usecols='A,E')\n",
    "chf.drop(columns='Data', inplace=True)\n",
    "\n",
    "usd = pd.read_excel('kursy.xlsx', sheet_name='USDPLN', skiprows=2, usecols='A,E')\n",
    "usd.drop(columns='Data', inplace=True)\n",
    "\n",
    "eur['USD'] = usd['Zamkniecie']\n",
    "eur['CHF'] = chf['Zamkniecie']\n",
    "eur = eur.rename(columns = {'Zamkniecie': 'EUR'}, inplace = False)\n",
    "print(eur)\n",
    "\n",
    "print(eur.corr())\n",
    "plt.figure(figsize=(10,10),dpi = 100)\n",
    "sns.heatmap(eur.corr(),annot = eur.corr())\n",
    "\n",
    "\n",
    "\n",
    "\n"
   ]
  },
  {
   "cell_type": "markdown",
   "metadata": {},
   "source": [
    "Na podstawie tabelki oraz mapy ciepła możemy zauważyć, że najbardziej skorelowanymi walutami są EUR i CHF, a najmniej CHF i USD. Dodatkowo w zadaniu pominąłem dane WIG30, ponieważ nie jest to waluta."
   ]
  },
  {
   "cell_type": "markdown",
   "metadata": {},
   "source": [
    "> **Zadanie 3** Zmień nazwę tego skryptu na następującą \"PRiAD3zal_Imię_Nazwisko.ipynb\" i wgraj wgraj go do ISOD-a we wskazane miejsce, nie przekraczając wyznaczonego terminu."
   ]
  },
  {
   "cell_type": "markdown",
   "metadata": {},
   "source": [
    "*Wersja na rok. akad. 21/22*"
   ]
  }
 ],
 "metadata": {
  "kernelspec": {
   "display_name": "Python 3 (ipykernel)",
   "language": "python",
   "name": "python3"
  },
  "language_info": {
   "codemirror_mode": {
    "name": "ipython",
    "version": 3
   },
   "file_extension": ".py",
   "mimetype": "text/x-python",
   "name": "python",
   "nbconvert_exporter": "python",
   "pygments_lexer": "ipython3",
   "version": "3.10.0"
  }
 },
 "nbformat": 4,
 "nbformat_minor": 4
}
